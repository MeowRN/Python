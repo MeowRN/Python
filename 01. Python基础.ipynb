{
 "cells": [
  {
   "cell_type": "markdown",
   "metadata": {},
   "source": [
    "# Python基础\n",
    "## Python概述\n",
    "- 计算机语言概述\n",
    "  - 语言： 交流的工具，沟通的媒介\n",
    "  - 计算机语言：人跟计算机交流的工具，翻译官\n",
    "  - Python是计算机语言的一种\n",
    "  - Python 编程语言\n",
    "    - 代码： 人类的语言，通过代码命令计算机，跟计算机交流\n",
    "    - Phython解释器： 就是那个担任翻译工作的同学\n",
    "    - 流程\n",
    "         - 写代码\n",
    "         - 执行：由翻译官（Python解释器）把命令（code）翻译给机器\n",
    "  - Python简史\n",
    "    - 1989年， Guido van Rossum\n",
    "    - 2008: python3.0 诞生\n",
    "    - 2014：宣布 2.7 支持到2020\n",
    "    - 2017：AI元年，Phython崛起\n",
    "  - Python 特点\n",
    "    - 速度问题\n",
    "    - Python跟其他语言的选择的问题\n",
    "  - Python的应用领域\n",
    "    - 全能\n",
    "    - 设计哲学：平衡发展，样样通，简洁明了\n",
    "  - 环境问题\n",
    "    - 工作环境\n",
    "      - 环境安装\n",
    "         - gitbook上由\n",
    "         - www.cnblogs.com/zhouzhishuai/p/8401103.html\n",
    "    - 学习环境\n",
    "      - 直播课程：网易课堂\n",
    "      - 讲义+代码：gihub\n",
    "      - 教科书：gitbook\n",
    "    - 操作系统\n",
    "      - windows\n",
    "    - 软件环境\n",
    "      - 不适用Python解释器\n",
    "      - 使用anaconda3+pycharm代替\n",
    "   - Python的执行方式\n",
    "     - 本质上Python是一堆命令的集合\n",
    "     - 在执行过程是逐行执行，遇到问题即可终止\n",
    "     - 打印Hellow orld\n",
    "     "
   ]
  },
  {
   "cell_type": "code",
   "execution_count": null,
   "metadata": {
    "collapsed": true
   },
   "outputs": [],
   "source": [
    "print(23323)"
   ]
  },
  {
   "cell_type": "code",
   "execution_count": null,
   "metadata": {
    "collapsed": true
   },
   "outputs": [],
   "source": [
    "print(\"hello world\")"
   ]
  },
  {
   "cell_type": "code",
   "execution_count": null,
   "metadata": {
    "collapsed": true
   },
   "outputs": [],
   "source": []
  },
  {
   "cell_type": "code",
   "execution_count": null,
   "metadata": {
    "collapsed": true
   },
   "outputs": [],
   "source": []
  }
 ],
 "metadata": {
  "kernelspec": {
   "display_name": "Python 3",
   "language": "python",
   "name": "python3"
  },
  "language_info": {
   "codemirror_mode": {
    "name": "ipython",
    "version": 3
   },
   "file_extension": ".py",
   "mimetype": "text/x-python",
   "name": "python",
   "nbconvert_exporter": "python",
   "pygments_lexer": "ipython3",
   "version": "3.6.3"
  }
 },
 "nbformat": 4,
 "nbformat_minor": 2
}
