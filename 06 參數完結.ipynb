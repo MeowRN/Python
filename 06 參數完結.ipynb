{
 "cells": [
  {
   "cell_type": "markdown",
   "metadata": {},
   "source": [
    "## 關鍵之參數\n",
    "- 語法\n",
    "      \n",
    "              def func(p1=v1,p2=v2);\n",
    "                  func_body\n",
    "                  \n",
    "              調用函數\n",
    "              func(p1=value1,p2=value...\n",
    "- 比较麻烦，但也有好处：\n",
    "  - \n",
    "  - 使用关键参数，可以不考虑参数位置；由\n",
    " \n",
    "how\n",
    "    定義層面\n",
    "        函數+_key\n",
    "        將參數設爲默認:0,no~\n",
    "        \n",
    "     調度層面\n",
    "        （）內，將函數與變量用=號相連"
   ]
  },
  {
   "cell_type": "code",
   "execution_count": 3,
   "metadata": {},
   "outputs": [
    {
     "name": "stdout",
     "output_type": "stream",
     "text": [
      "i am a stu\n",
      "my name18, jing year od, live我家\n"
     ]
    }
   ],
   "source": [
    "def stu(name,age,addr):\n",
    "    print(\"i am a stu\")\n",
    "    print(\"my name{0}, {1} year od, live{2}\".format(name,age,addr))\n",
    "          \n",
    "n=\"jing\"\n",
    "a=18\n",
    "addr=\"我家\"\n",
    "          \n",
    "stu(a,n,addr)"
   ]
  },
  {
   "cell_type": "code",
   "execution_count": 1,
   "metadata": {},
   "outputs": [
    {
     "ename": "SyntaxError",
     "evalue": "invalid syntax (<ipython-input-1-b42df683e1cf>, line 1)",
     "output_type": "error",
     "traceback": [
      "\u001b[0;36m  File \u001b[0;32m\"<ipython-input-1-b42df683e1cf>\"\u001b[0;36m, line \u001b[0;32m1\u001b[0m\n\u001b[0;31m    def stu_key(name=,age=0,addr=\"no addr\"):\u001b[0m\n\u001b[0m                     ^\u001b[0m\n\u001b[0;31mSyntaxError\u001b[0m\u001b[0;31m:\u001b[0m invalid syntax\n"
     ]
    }
   ],
   "source": [
    "def stu_key(name=\"no name\",age=0,addr=\"no addr\"):\n",
    "    print(\"i am a stu\")\n",
    "    print(\"my name{0}, {1} year od, live{2}\".format(name,age,addr))\n",
    "          \n",
    "n=\"jing\"\n",
    "a=18\n",
    "addr=\"我家\"\n",
    "          \n",
    "\n",
    "    stu_key(age=a,name=n,addr=addr)"
   ]
  },
  {
   "cell_type": "markdown",
   "metadata": {},
   "source": [
    "\n"
   ]
  },
  {
   "cell_type": "markdown",
   "metadata": {
    "collapsed": true
   },
   "source": [
    "## 收集參數\n",
    "- 把沒有位置，不能和定義時的參數位置相對應的參數，放入一個特定的數據結構中\n",
    "- 语法\n",
    "     \n",
    "               def func(*args):\n",
    "                   func_body\n",
    "                   按照list使用方式访问args得到传入的参数。\n",
    "                   \n",
    "               调用:\n",
    "               func(p1,p2,p3....)\n",
    "- 参数名args不是必须这么写，但是，我們推薦直接用args，約定速成。\n",
    "- 參數名args前需要由星號\n",
    "- 收集參數可以和命他參數共存"
   ]
  },
  {
   "cell_type": "markdown",
   "metadata": {},
   "source": [
    "### 收集參數之關鍵字參數\n",
    "- 把關鍵字參數按字典格式存入收集參數\n",
    "- 語法：\n",
    "   \n",
    "           def func( **kwangs):\n",
    "               func_body\n",
    "               \n",
    "            # 調用：\n",
    "            func(p1=v1, p2=v2 ....)\n",
    "            \n",
    "- kwangs一般約定俗成\n",
    "- 調用的時候，把多餘的關鍵字參數放入kwangs\n",
    "- 訪問kwargs需要按照字典的格式訪問\n",
    "\n",
    "TIPs\n",
    "1. 函數調用時（）中爲值？\n",
    "2. 在for循環中， 序列名稱爲： kwargs.items():\n",
    "3. 定義層（）裏的內容，參數，收集參數與關鍵字參數，位置上，與調用層面相同\n"
   ]
  },
  {
   "cell_type": "code",
   "execution_count": 26,
   "metadata": {},
   "outputs": [
    {
     "name": "stdout",
     "output_type": "stream",
     "text": [
      "hell, everybody\n",
      "liuying\n",
      "18\n",
      "beidingdatongzhouqu\n",
      "wangxiaojing\n",
      "single\n",
      "hell, everybody\n",
      "zhoudashen\n"
     ]
    }
   ],
   "source": [
    "# 收集參數逮捕\n",
    "\n",
    "def stu( *args):\n",
    "    print(\"hell, everybody\")\n",
    "    # type函數作用是檢測變量的類型\n",
    "    \n",
    "    for item in args:\n",
    "         print(item)   \n",
    "\n",
    "stu(\"liuying\", 18, \"beidingdatongzhouqu\", \"wangxiaojing\", \"single\")\n",
    "stu(\"zhoudashen\")"
   ]
  },
  {
   "cell_type": "code",
   "execution_count": 22,
   "metadata": {},
   "outputs": [
    {
     "name": "stdout",
     "output_type": "stream",
     "text": [
      "hello, everyone, let me introduce \n",
      "<class 'dict'>\n",
      "name .... liuying\n",
      "age .... 19\n",
      "addr .... beijingdatongda\n",
      "lover .... baochai\n",
      "work .... teacher\n",
      "**************************************************\n",
      "hello, everyone, let me introduce \n",
      "<class 'dict'>\n",
      "name .... zhou dashen\n"
     ]
    }
   ],
   "source": [
    "# 收集參數案例\n",
    "# 調用的時候需要使用關鍵字參數調用\n",
    "\n",
    "\n",
    "def stu( **kwargs):\n",
    "    print(\"hello, everyone, let me introduce \")\n",
    "    print(type(kwargs))\n",
    "    for k,v in  kwargs.items():\n",
    "        print(k,\"....\",v)\n",
    "       \n",
    "stu(name=\"liuying\", age=19, addr=\"beijingdatongda\", lover=\"baochai\", work=\"teacher\")\n",
    "\n",
    "print(\"*\"*50)\n",
    "\n",
    "stu(name=\"zhou dashen\")\n"
   ]
  },
  {
   "cell_type": "code",
   "execution_count": null,
   "metadata": {
    "collapsed": true
   },
   "outputs": [],
   "source": [
    "### 收集參數混合調用的順序問題\n",
    "- 收集參數，關鍵字參數， 普通參數可以混合使用\n",
    "- 使用規則是，普通參數和關鍵字參數優先\n",
    "- 定義的時候一般找普通參數， 關鍵參數， 收集參數tuple, 收集參數dict"
   ]
  },
  {
   "cell_type": "code",
   "execution_count": 37,
   "metadata": {},
   "outputs": [
    {
     "ename": "SyntaxError",
     "evalue": "invalid syntax (<ipython-input-37-a77e6b16e289>, line 32)",
     "output_type": "error",
     "traceback": [
      "\u001b[0;36m  File \u001b[0;32m\"<ipython-input-37-a77e6b16e289>\"\u001b[0;36m, line \u001b[0;32m32\u001b[0m\n\u001b[0;31m    1.kwargs.itmes()——收集關鍵字質量錯誤\u001b[0m\n\u001b[0m           ^\u001b[0m\n\u001b[0;31mSyntaxError\u001b[0m\u001b[0;31m:\u001b[0m invalid syntax\n"
     ]
    }
   ],
   "source": [
    "#stu模擬一個學生的自我介紹\n",
    "\n",
    "def stu(name, age,*args,hobby=\"沒有\" , **kwargs):\n",
    "    print(\"hello everyone\")\n",
    "    print(\"my name{0}, {1}year-old\".format(name,age))\n",
    "    if hobby==\"沒有\":\n",
    "        print(\"i haven't\")\n",
    "    else:\n",
    "        print(\"my hobby is {0}\".format(hobby))\n",
    "        print(\"*\"*20) \n",
    "\n",
    "    for i in args:\n",
    "        print(i) \n",
    "    print(\"*\" *30)\n",
    "\n",
    "    for k,v in kwargs.items():\n",
    "        print(k,\"--\",v)\n",
    "        \n",
    "        \n",
    "        \n",
    "name=\"Meow\"\n",
    "age = 19\n",
    "\n",
    "# 調用不同格式\n",
    "\n",
    "stu(name, age)\n",
    "stu(name, age, hobby)\n",
    "stu(name,age,\"薛寶釵\",\"史湘雲\",hobby=\"遊泳\", hobby2=\"烹飪\",hobby3=\"stone\")\n",
    "\n",
    "\n",
    "#錯誤\n",
    "1.kwargs.itmes()——收集關鍵字質量錯誤"
   ]
  },
  {
   "cell_type": "markdown",
   "metadata": {},
   "source": [
    "###. 收集參數的解包問題\n",
    "- 把參數放入List中，或字典中，直接把list/dict中的值放入收集參數中\n",
    "- 語法：參看案例"
   ]
  },
  {
   "cell_type": "markdown",
   "metadata": {},
   "source": [
    "# 收集參數解包問題\n",
    "\n"
   ]
  },
  {
   "cell_type": "markdown",
   "metadata": {},
   "source": []
  },
  {
   "cell_type": "code",
   "execution_count": null,
   "metadata": {
    "collapsed": true
   },
   "outputs": [],
   "source": []
  },
  {
   "cell_type": "code",
   "execution_count": null,
   "metadata": {
    "collapsed": true
   },
   "outputs": [],
   "source": [
    "def stu(*args):\n",
    "    print(\"hahahaha\")\n",
    "    n = 0\n",
    "    for i in args:\n",
    "        print(i)\n",
    "        print(n)\n",
    "        n += 1\n",
    "        print(i)\n",
    "        \n",
    "\n",
    "# stu(\"meow\",\"eileen\", 19, 200)\n",
    "\n",
    "l=list()\n",
    "l. append(\"meow\")\n",
    "l. append(19)\n",
    "l. append(230)\n",
    "\n",
    "stu(l)"
   ]
  },
  {
   "cell_type": "code",
   "execution_count": 48,
   "metadata": {},
   "outputs": [
    {
     "name": "stdout",
     "output_type": "stream",
     "text": [
      "hahahaha\n",
      "<class 'set'>\n",
      "0\n",
      "{'Eileen', 'meow', 19, 23}\n"
     ]
    }
   ],
   "source": [
    "# 收集參數解包問題\n",
    "\n",
    "def stu(*args):\n",
    "    print(\"hahahaha\")\n",
    "    n = 0\n",
    "    for i in args:\n",
    "        print(type(i))\n",
    "        print(n)\n",
    "        n += 1\n",
    "        print(i)\n",
    "        \n",
    "\n",
    "# stu(\"meow\",\"eileen\", 19, 200)\n",
    "\n",
    "l = {\"meow\", 19, 23,\"Eileen\"}\n",
    "stu(l)\n",
    "\n",
    "\n",
    "# 此時， args的表示形式是字典內一個list類型的元素，即 arg=(l)\n",
    "# 很顯示跟我們最初的相反違背\n",
    "\n",
    "# 此時的調用，我們就需要解包符號，即條用的時候前面加一個星號"
   ]
  },
  {
   "cell_type": "markdown",
   "metadata": {},
   "source": [
    "# 函數文檔\n",
    "\n",
    "- 函數的文旦的作用是對當前函數提供使用相關的參考信息\n",
    "\n",
    "how\n",
    "- 文檔的寫法：\n",
    "  - 在函數內部開始的第一行使用三引號定義符\n",
    "  - 一般具有特定格式\n",
    "  - 參看案例\n",
    "在第二行（def下面那行），使用三引號\n",
    " \n",
    "- 文檔查看\n",
    "  - 使用help函數， 形如 help(func)\n",
    "  - 使用__doc_, 參看案例\n",
    "  "
   ]
  },
  {
   "cell_type": "code",
   "execution_count": 57,
   "metadata": {
    "collapsed": true
   },
   "outputs": [],
   "source": [
    "# 文檔案例\n",
    "# 我寫一個stu是模擬一個學生的自我介紹\n",
    "\n",
    "def stu(name, age, *args):\n",
    "    '''這是問題\n",
    "    asdas \n",
    "    asdasd '''\n",
    "    print(\"this is hanshu stu\")"
   ]
  },
  {
   "cell_type": "code",
   "execution_count": null,
   "metadata": {
    "collapsed": true
   },
   "outputs": [],
   "source": []
  },
  {
   "cell_type": "code",
   "execution_count": null,
   "metadata": {
    "collapsed": true
   },
   "outputs": [],
   "source": []
  },
  {
   "cell_type": "code",
   "execution_count": null,
   "metadata": {
    "collapsed": true
   },
   "outputs": [],
   "source": []
  },
  {
   "cell_type": "code",
   "execution_count": null,
   "metadata": {
    "collapsed": true
   },
   "outputs": [],
   "source": []
  },
  {
   "cell_type": "code",
   "execution_count": 58,
   "metadata": {},
   "outputs": [
    {
     "name": "stdout",
     "output_type": "stream",
     "text": [
      "Help on function stu in module __main__:\n",
      "\n",
      "stu(name, age, *args)\n",
      "    這是問題\n",
      "    asdas \n",
      "    asdasd\n",
      "\n"
     ]
    },
    {
     "ename": "AttributeError",
     "evalue": "'function' object has no attribute '_doc_'",
     "output_type": "error",
     "traceback": [
      "\u001b[0;31m---------------------------------------------------------------------------\u001b[0m",
      "\u001b[0;31mAttributeError\u001b[0m                            Traceback (most recent call last)",
      "\u001b[0;32m<ipython-input-58-8b0342089693>\u001b[0m in \u001b[0;36m<module>\u001b[0;34m()\u001b[0m\n\u001b[1;32m      1\u001b[0m \u001b[0mhelp\u001b[0m\u001b[0;34m(\u001b[0m\u001b[0mstu\u001b[0m\u001b[0;34m)\u001b[0m\u001b[0;34m\u001b[0m\u001b[0m\n\u001b[0;32m----> 2\u001b[0;31m \u001b[0mstu\u001b[0m\u001b[0;34m.\u001b[0m\u001b[0m_doc_\u001b[0m\u001b[0;34m\u001b[0m\u001b[0m\n\u001b[0m",
      "\u001b[0;31mAttributeError\u001b[0m: 'function' object has no attribute '_doc_'"
     ]
    }
   ],
   "source": [
    "help(stu)\n",
    "stu._doc_"
   ]
  },
  {
   "cell_type": "code",
   "execution_count": null,
   "metadata": {
    "collapsed": true
   },
   "outputs": [],
   "source": []
  },
  {
   "cell_type": "code",
   "execution_count": null,
   "metadata": {
    "collapsed": true
   },
   "outputs": [],
   "source": []
  },
  {
   "cell_type": "code",
   "execution_count": null,
   "metadata": {
    "collapsed": true
   },
   "outputs": [],
   "source": []
  },
  {
   "cell_type": "code",
   "execution_count": null,
   "metadata": {
    "collapsed": true
   },
   "outputs": [],
   "source": []
  },
  {
   "cell_type": "code",
   "execution_count": null,
   "metadata": {
    "collapsed": true
   },
   "outputs": [],
   "source": []
  },
  {
   "cell_type": "code",
   "execution_count": null,
   "metadata": {
    "collapsed": true
   },
   "outputs": [],
   "source": []
  },
  {
   "cell_type": "code",
   "execution_count": null,
   "metadata": {
    "collapsed": true
   },
   "outputs": [],
   "source": []
  },
  {
   "cell_type": "code",
   "execution_count": null,
   "metadata": {
    "collapsed": true
   },
   "outputs": [],
   "source": []
  },
  {
   "cell_type": "code",
   "execution_count": null,
   "metadata": {
    "collapsed": true
   },
   "outputs": [],
   "source": []
  },
  {
   "cell_type": "code",
   "execution_count": null,
   "metadata": {
    "collapsed": true
   },
   "outputs": [],
   "source": []
  },
  {
   "cell_type": "code",
   "execution_count": null,
   "metadata": {
    "collapsed": true
   },
   "outputs": [],
   "source": []
  },
  {
   "cell_type": "code",
   "execution_count": null,
   "metadata": {
    "collapsed": true
   },
   "outputs": [],
   "source": []
  },
  {
   "cell_type": "code",
   "execution_count": null,
   "metadata": {
    "collapsed": true
   },
   "outputs": [],
   "source": []
  },
  {
   "cell_type": "code",
   "execution_count": null,
   "metadata": {
    "collapsed": true
   },
   "outputs": [],
   "source": []
  },
  {
   "cell_type": "code",
   "execution_count": null,
   "metadata": {
    "collapsed": true
   },
   "outputs": [],
   "source": []
  },
  {
   "cell_type": "code",
   "execution_count": null,
   "metadata": {
    "collapsed": true
   },
   "outputs": [],
   "source": []
  },
  {
   "cell_type": "code",
   "execution_count": null,
   "metadata": {
    "collapsed": true
   },
   "outputs": [],
   "source": []
  },
  {
   "cell_type": "code",
   "execution_count": null,
   "metadata": {
    "collapsed": true
   },
   "outputs": [],
   "source": []
  },
  {
   "cell_type": "code",
   "execution_count": null,
   "metadata": {
    "collapsed": true
   },
   "outputs": [],
   "source": []
  },
  {
   "cell_type": "code",
   "execution_count": null,
   "metadata": {
    "collapsed": true
   },
   "outputs": [],
   "source": []
  },
  {
   "cell_type": "code",
   "execution_count": null,
   "metadata": {
    "collapsed": true
   },
   "outputs": [],
   "source": []
  },
  {
   "cell_type": "code",
   "execution_count": null,
   "metadata": {
    "collapsed": true
   },
   "outputs": [],
   "source": []
  },
  {
   "cell_type": "code",
   "execution_count": null,
   "metadata": {
    "collapsed": true
   },
   "outputs": [],
   "source": []
  },
  {
   "cell_type": "code",
   "execution_count": null,
   "metadata": {
    "collapsed": true
   },
   "outputs": [],
   "source": []
  },
  {
   "cell_type": "code",
   "execution_count": null,
   "metadata": {
    "collapsed": true
   },
   "outputs": [],
   "source": []
  },
  {
   "cell_type": "code",
   "execution_count": null,
   "metadata": {
    "collapsed": true
   },
   "outputs": [],
   "source": []
  },
  {
   "cell_type": "code",
   "execution_count": null,
   "metadata": {
    "collapsed": true
   },
   "outputs": [],
   "source": []
  },
  {
   "cell_type": "code",
   "execution_count": null,
   "metadata": {
    "collapsed": true
   },
   "outputs": [],
   "source": []
  },
  {
   "cell_type": "code",
   "execution_count": null,
   "metadata": {
    "collapsed": true
   },
   "outputs": [],
   "source": []
  },
  {
   "cell_type": "code",
   "execution_count": null,
   "metadata": {
    "collapsed": true
   },
   "outputs": [],
   "source": []
  },
  {
   "cell_type": "code",
   "execution_count": null,
   "metadata": {
    "collapsed": true
   },
   "outputs": [],
   "source": []
  },
  {
   "cell_type": "code",
   "execution_count": null,
   "metadata": {
    "collapsed": true
   },
   "outputs": [],
   "source": []
  },
  {
   "cell_type": "code",
   "execution_count": null,
   "metadata": {
    "collapsed": true
   },
   "outputs": [],
   "source": []
  },
  {
   "cell_type": "code",
   "execution_count": null,
   "metadata": {
    "collapsed": true
   },
   "outputs": [],
   "source": []
  },
  {
   "cell_type": "code",
   "execution_count": null,
   "metadata": {
    "collapsed": true
   },
   "outputs": [],
   "source": []
  },
  {
   "cell_type": "code",
   "execution_count": null,
   "metadata": {
    "collapsed": true
   },
   "outputs": [],
   "source": []
  },
  {
   "cell_type": "code",
   "execution_count": null,
   "metadata": {
    "collapsed": true
   },
   "outputs": [],
   "source": []
  },
  {
   "cell_type": "code",
   "execution_count": null,
   "metadata": {
    "collapsed": true
   },
   "outputs": [],
   "source": []
  },
  {
   "cell_type": "code",
   "execution_count": 5,
   "metadata": {},
   "outputs": [
    {
     "ename": "SyntaxError",
     "evalue": "invalid syntax (<ipython-input-5-81595edd4cfe>, line 7)",
     "output_type": "error",
     "traceback": [
      "\u001b[0;36m  File \u001b[0;32m\"<ipython-input-5-81595edd4cfe>\"\u001b[0;36m, line \u001b[0;32m7\u001b[0m\n\u001b[0;31m    for item in args:\u001b[0m\n\u001b[0m                    ^\u001b[0m\n\u001b[0;31mSyntaxError\u001b[0m\u001b[0;31m:\u001b[0m invalid syntax\n"
     ]
    }
   ],
   "source": [
    "# 收集參數逮捕\n",
    "\n",
    "def stu( *args):\n",
    "    print(\"hell, everybody\")\n",
    "    # type函數作用是檢測變量的類型\n",
    "    print(type(args)\n",
    "    for item in args:\n",
    "         print(item)   \n",
    "\n",
    "stu(\"liuying\", 18, \"beidingdatongzhouqu\", \"wangxiaojing\", \"single\")\n",
    "stu(\"zhoudashen\")"
   ]
  },
  {
   "cell_type": "code",
   "execution_count": null,
   "metadata": {
    "collapsed": true
   },
   "outputs": [],
   "source": []
  },
  {
   "cell_type": "code",
   "execution_count": null,
   "metadata": {
    "collapsed": true
   },
   "outputs": [],
   "source": []
  },
  {
   "cell_type": "code",
   "execution_count": null,
   "metadata": {
    "collapsed": true
   },
   "outputs": [],
   "source": []
  },
  {
   "cell_type": "code",
   "execution_count": null,
   "metadata": {
    "collapsed": true
   },
   "outputs": [],
   "source": []
  },
  {
   "cell_type": "code",
   "execution_count": null,
   "metadata": {
    "collapsed": true
   },
   "outputs": [],
   "source": []
  },
  {
   "cell_type": "code",
   "execution_count": null,
   "metadata": {
    "collapsed": true
   },
   "outputs": [],
   "source": []
  },
  {
   "cell_type": "code",
   "execution_count": null,
   "metadata": {
    "collapsed": true
   },
   "outputs": [],
   "source": []
  },
  {
   "cell_type": "code",
   "execution_count": null,
   "metadata": {
    "collapsed": true
   },
   "outputs": [],
   "source": []
  },
  {
   "cell_type": "code",
   "execution_count": null,
   "metadata": {
    "collapsed": true
   },
   "outputs": [],
   "source": []
  },
  {
   "cell_type": "code",
   "execution_count": null,
   "metadata": {
    "collapsed": true
   },
   "outputs": [],
   "source": []
  },
  {
   "cell_type": "code",
   "execution_count": null,
   "metadata": {
    "collapsed": true
   },
   "outputs": [],
   "source": []
  }
 ],
 "metadata": {
  "kernelspec": {
   "display_name": "Python 3",
   "language": "python",
   "name": "python3"
  },
  "language_info": {
   "codemirror_mode": {
    "name": "ipython",
    "version": 3
   },
   "file_extension": ".py",
   "mimetype": "text/x-python",
   "name": "python",
   "nbconvert_exporter": "python",
   "pygments_lexer": "ipython3",
   "version": "3.6.3"
  }
 },
 "nbformat": 4,
 "nbformat_minor": 2
}
