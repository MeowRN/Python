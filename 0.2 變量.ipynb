{
 "cells": [
  {
   "cell_type": "markdown",
   "metadata": {},
   "source": [
    "# 环境安装\n",
    " - 推荐virtualbox+ubuntu\n",
    " - 套件推荐 Anaconda3+pycharm\n",
    "  \n",
    " \n",
    " \n",
    " \n",
    "\n",
    "\n",
    "  "
   ]
  },
  {
   "cell_type": "markdown",
   "metadata": {},
   "source": [
    "# 注释\n",
    "- 机器不去执行的内容\n",
    "- 注释一般用自然语言书写\n",
    "- 注释的写法\n",
    "  - 行注释： 以井号开头，可以单独执行，也可以在某代码后边。\n",
    "  - 块注释： 好几行代码或内容，以三个连续单引号或双引号开始和结束，中间任何内容机器都忽略"
   ]
  },
  {
   "cell_type": "markdown",
   "metadata": {},
   "source": [
    "# 变量\n",
    "- 程序=数据结构（數據用變量表示，）+算法\n",
    "- 变量可以重復使用的一個量，或者叫一個代號\n",
    "- 變量命名的規則\n",
    "  - 變量命名可以包含數字，大小寫字母，下滑寫或者更多，但我們不推薦除了前三種內容之外的符號。\n",
    "  - 一般在Python中，以下劃線開頭的內容具有特殊含義，不建議使用\n",
    "  - 大小寫不一樣，俗稱大小寫敏感\n",
    "    - ForMan 跟 forMan不是一個變量\n",
    "  - 推薦\n",
    "    - 使用具有固定含義的英文單詞或者縮寫， srv=server skt=socket, 一般以posix命名規則爲主\n",
    "    - 駝峯命名法\n",
    "      - 名稱以單詞自動練劍，且每個單詞字母均大寫\n",
    "        - 大駝峯，每個單詞第一個字母均大寫\n",
    "          - 在P 中類命名使用此法\n",
    "          - MyFirstlove, IntOne\n",
    "         - 小駝峯， 類似大駝峯，，但第一個字母小鎖\n",
    "           - 在P中一般給普通變量或者函數命名\n",
    "           - myFirstLove,\n",
    "         - posix寫法\n",
    "           - 多個單詞用下劃線鏈接\n",
    "           - 單詞全部小寫\n",
    "           - my_first_love, int_one 、\n",
    "  - 保留和關鍵字\n",
    "    - 變量命名必須避開，不能跟關鍵字和保留字重復\n",
    "    - class, def, break, for \n",
    "\n",
    "\n",
    "\n",
    "\n",
    "個人筆記\n",
    "變量\n",
    "這裏的變量，其實是用來代表數據。可是如果代表數據，名稱或代號更合適，因爲變量會把語境帶到一個某個結果相關性的公式之中。\n"
   ]
  },
  {
   "cell_type": "code",
   "execution_count": 3,
   "metadata": {
    "collapsed": true
   },
   "outputs": [
    {
     "data": {
      "text/plain": [
       "['False',\n",
       " 'None',\n",
       " 'True',\n",
       " 'and',\n",
       " 'as',\n",
       " 'assert',\n",
       " 'break',\n",
       " 'class',\n",
       " 'continue',\n",
       " 'def',\n",
       " 'del',\n",
       " 'elif',\n",
       " 'else',\n",
       " 'except',\n",
       " 'finally',\n",
       " 'for',\n",
       " 'from',\n",
       " 'global',\n",
       " 'if',\n",
       " 'import',\n",
       " 'in',\n",
       " 'is',\n",
       " 'lambda',\n",
       " 'nonlocal',\n",
       " 'not',\n",
       " 'or',\n",
       " 'pass',\n",
       " 'raise',\n",
       " 'return',\n",
       " 'try',\n",
       " 'while',\n",
       " 'with',\n",
       " 'yield']"
      ]
     },
     "execution_count": 3,
     "metadata": {},
     "output_type": "execute_result"
    }
   ],
   "source": [
    "# 查看關鍵字的方法\n",
    "import keyword #音符關鍵字模塊\n",
    "keyword.kwlist"
   ]
  },
  {
   "cell_type": "markdown",
   "metadata": {},
   "source": [
    "## 變量聲明\n",
    "- var_name = var_value\n",
    "- var1 =var2 = var3 =var_value   = 多個變量相同賦值\n",
    "- var1, var2, var3 = v1, v2, v3  = 多個變量不同賦值\n",
    " \n"
   ]
  },
  {
   "cell_type": "markdown",
   "metadata": {},
   "source": [
    "## 變量類型\n",
    "- 嚴格意義上來講，python只有一個類型\n",
    "- 標準數據一種六種\n",
    "  - 數字類型Number\n",
    "  - 字符串類型 str\n",
    "  - 列表list\n",
    "  - 元祖 tuple\n",
    "  - 字典 dictionary\n",
    "  - 集合 set"
   ]
  },
  {
   "cell_type": "markdown",
   "metadata": {},
   "source": [
    "## Number數字類型\n",
    "- 數字類型沒有大小限制\n",
    "### 整數\n",
    "- 沒有小數部分，表示個數的數字\n",
    "- 自然數，0，負自然數\n",
    "- 整數分進制\n",
    "  - 二進制\n",
    "    - 计算机常用\n",
    "    - 是计算机唯一能直接理解的数字\n",
    "    - 表示0b开头的0,1代码\n",
    "    - 例如 0b00101，0b10001\n",
    "  - 八進制\n",
    "    - 不常用\n",
    "  - 十六進制\n",
    "    - 逢16進1\n",
    "    - 每四位二進制表示一位十六禁止數\n",
    "    - 包含0-9， a-f\n",
    "    - 數字上以0x開頭表示\n",
    "  - 十進制\n",
    "    - 18, 89, 178\n",
    "### 負點數\n",
    "- 小數 \n",
    "- 計算機裏邊表示浮點數可以\n",
    "- 3.1415\n",
    "- 3.\n",
    "- 0.5\n",
    "- .5 \n",
    "### 浮點數\n",
    "- 小數\n",
    "- 計算機裏邊表示浮點數可以有條件省略\n",
    "- 3.1415\n",
    "- 3.\n",
    "- 0.5\n",
    "- .5\n",
    "- 科學計數法\n",
    "  - 定義跟數學定義\n",
    "  - 寫法是用e/E後面跟整數表示10的指數\n",
    "  - 176.23 == 1.7634e2\n",
    "\n",
    "### 复数\n",
    "- 定義同數學定義一致\n",
    "- 一個由實部與虛部構成的數字\n",
    "- 虛部用j/J表示\n",
    "- 5+3j\n",
    "- 3j\n",
    "- (3j)\n",
    "\n",
    "### 布爾值\n",
    "- 表示真假值\n",
    "- 只有True/Flase\n",
    "- 布爾值可以跟數值直接操作\n",
    "\n",
    "## 字符串\n",
    "- 用來表示一串文字信息\n",
    "- 如果表示\n",
    "  - 單引號\n",
    "  - 雙引號\n",
    "  - 三引號（三個單引號或三個雙引號）\n",
    "    - 能夠擴起多行信息,兒雙單不支持換行\n",
    "- 單雙引號交錯使用\n",
    "   "
   ]
  },
  {
   "cell_type": "code",
   "execution_count": 9,
   "metadata": {},
   "outputs": [
    {
     "name": "stdout",
     "output_type": "stream",
     "text": [
      "18\n",
      "11\n",
      "255\n"
     ]
    }
   ],
   "source": [
    "age = 18\n",
    "print(18)\n",
    "      \n",
    "age = 0b1011\n",
    "print(age)\n",
    "\n",
    "age = 0xff #十六進制ff表示二進制的1111 1111\n",
    "print(age)"
   ]
  },
  {
   "cell_type": "code",
   "execution_count": 10,
   "metadata": {},
   "outputs": [
    {
     "name": "stdout",
     "output_type": "stream",
     "text": [
      "153.34\n",
      "0.2\n",
      "0.6\n"
     ]
    }
   ],
   "source": [
    "height = 153.34\n",
    "print(height)\n",
    "\n",
    "shili = 0.2\n",
    "print(shili)\n",
    "\n",
    "shili = .6\n",
    "print(shili)"
   ]
  },
  {
   "cell_type": "code",
   "execution_count": 11,
   "metadata": {},
   "outputs": [
    {
     "name": "stdout",
     "output_type": "stream",
     "text": [
      "19\n"
     ]
    }
   ],
   "source": [
    "age = 18 + True\n",
    "print (age)\n"
   ]
  },
  {
   "cell_type": "code",
   "execution_count": 26,
   "metadata": {},
   "outputs": [
    {
     "ename": "SyntaxError",
     "evalue": "invalid syntax (<ipython-input-26-0ea4895d637f>, line 11)",
     "output_type": "error",
     "traceback": [
      "\u001b[0;36m  File \u001b[0;32m\"<ipython-input-26-0ea4895d637f>\"\u001b[0;36m, line \u001b[0;32m11\u001b[0m\n\u001b[0;31m    html = \"a style=\"color:red\">哈哈哈</a>\"\u001b[0m\n\u001b[0m                         ^\u001b[0m\n\u001b[0;31mSyntaxError\u001b[0m\u001b[0;31m:\u001b[0m invalid syntax\n"
     ]
    }
   ],
   "source": [
    "love = \"i love WXL\"\n",
    "print(love)\n",
    "\n",
    "love = \"千裏走單騎\"\n",
    "print(love)\n",
    "\n",
    "# 單雙引號交錯使用的例子\n",
    "# <a style>=\"color:red\"> 哈哈</a>\n",
    "# 用引號表示上面字符串\n",
    "\n",
    "html = \"a style=\"color:red\">哈哈哈</a>\"\n",
    "\n",
    "print(html)\n"
   ]
  },
  {
   "cell_type": "code",
   "execution_count": null,
   "metadata": {
    "collapsed": true
   },
   "outputs": [],
   "source": []
  },
  {
   "cell_type": "code",
   "execution_count": null,
   "metadata": {
    "collapsed": true
   },
   "outputs": [],
   "source": []
  },
  {
   "cell_type": "code",
   "execution_count": null,
   "metadata": {
    "collapsed": true
   },
   "outputs": [],
   "source": []
  },
  {
   "cell_type": "code",
   "execution_count": null,
   "metadata": {
    "collapsed": true
   },
   "outputs": [],
   "source": []
  },
  {
   "cell_type": "code",
   "execution_count": null,
   "metadata": {
    "collapsed": true
   },
   "outputs": [],
   "source": []
  },
  {
   "cell_type": "code",
   "execution_count": null,
   "metadata": {
    "collapsed": true
   },
   "outputs": [],
   "source": []
  },
  {
   "cell_type": "code",
   "execution_count": null,
   "metadata": {
    "collapsed": true
   },
   "outputs": [],
   "source": []
  },
  {
   "cell_type": "code",
   "execution_count": null,
   "metadata": {
    "collapsed": true
   },
   "outputs": [],
   "source": []
  },
  {
   "cell_type": "code",
   "execution_count": null,
   "metadata": {
    "collapsed": true
   },
   "outputs": [],
   "source": []
  },
  {
   "cell_type": "code",
   "execution_count": null,
   "metadata": {
    "collapsed": true
   },
   "outputs": [],
   "source": []
  },
  {
   "cell_type": "code",
   "execution_count": null,
   "metadata": {
    "collapsed": true
   },
   "outputs": [],
   "source": []
  },
  {
   "cell_type": "code",
   "execution_count": null,
   "metadata": {
    "collapsed": true
   },
   "outputs": [],
   "source": []
  },
  {
   "cell_type": "code",
   "execution_count": null,
   "metadata": {
    "collapsed": true
   },
   "outputs": [],
   "source": []
  },
  {
   "cell_type": "code",
   "execution_count": null,
   "metadata": {
    "collapsed": true
   },
   "outputs": [],
   "source": []
  },
  {
   "cell_type": "code",
   "execution_count": null,
   "metadata": {
    "collapsed": true
   },
   "outputs": [],
   "source": []
  },
  {
   "cell_type": "code",
   "execution_count": null,
   "metadata": {
    "collapsed": true
   },
   "outputs": [],
   "source": []
  },
  {
   "cell_type": "code",
   "execution_count": null,
   "metadata": {
    "collapsed": true
   },
   "outputs": [],
   "source": []
  },
  {
   "cell_type": "code",
   "execution_count": null,
   "metadata": {
    "collapsed": true
   },
   "outputs": [],
   "source": []
  },
  {
   "cell_type": "code",
   "execution_count": null,
   "metadata": {
    "collapsed": true
   },
   "outputs": [],
   "source": []
  },
  {
   "cell_type": "markdown",
   "metadata": {},
   "source": [
    "個人筆記\n",
    "\n",
    "人話化\n",
    "變量 這裏的變量，其實是用來代表數據。可是如果代表數據，名稱或代號更合適，因爲變量會把語境帶到一個某個結果相關性的公式之中。\n",
    "\n",
    "變量聲明\n",
    "公式：var_name = var_value \n",
    "var_name=變量代號\n",
    "var_ value =變量值\n",
    "=爲賦值\n",
    "==爲相等\n",
    "\n",
    "變量類型\n",
    "Q by which attribute?\n"
   ]
  }
 ],
 "metadata": {
  "kernelspec": {
   "display_name": "Python 3",
   "language": "python",
   "name": "python3"
  },
  "language_info": {
   "codemirror_mode": {
    "name": "ipython",
    "version": 3
   },
   "file_extension": ".py",
   "mimetype": "text/x-python",
   "name": "python",
   "nbconvert_exporter": "python",
   "pygments_lexer": "ipython3",
   "version": "3.6.3"
  }
 },
 "nbformat": 4,
 "nbformat_minor": 2
}
